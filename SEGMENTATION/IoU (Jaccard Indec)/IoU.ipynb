{
 "cells": [
  {
   "cell_type": "code",
   "execution_count": 5,
   "metadata": {},
   "outputs": [
    {
     "name": "stdout",
     "output_type": "stream",
     "text": [
      "Collecting tensorflowNote: you may need to restart the kernel to use updated packages.\n",
      "\n",
      "  Downloading tensorflow-2.13.1-cp38-cp38-win_amd64.whl (1.9 kB)\n",
      "  Downloading tensorflow-2.13.0-cp38-cp38-win_amd64.whl (1.9 kB)\n",
      "Collecting tensorflow-intel==2.13.0\n",
      "  Downloading tensorflow_intel-2.13.0-cp38-cp38-win_amd64.whl (276.5 MB)\n",
      "Collecting protobuf!=4.21.0,!=4.21.1,!=4.21.2,!=4.21.3,!=4.21.4,!=4.21.5,<5.0.0dev,>=3.20.3\n",
      "  Downloading protobuf-4.25.6-cp38-cp38-win_amd64.whl (413 kB)\n",
      "Collecting numpy<=1.24.3,>=1.22\n",
      "  Downloading numpy-1.24.3-cp38-cp38-win_amd64.whl (14.9 MB)\n",
      "Collecting tensorboard<2.14,>=2.13\n",
      "  Downloading tensorboard-2.13.0-py3-none-any.whl (5.6 MB)\n",
      "Collecting tensorflow-io-gcs-filesystem>=0.23.1\n",
      "  Downloading tensorflow_io_gcs_filesystem-0.31.0-cp38-cp38-win_amd64.whl (1.5 MB)\n",
      "Collecting typing-extensions<4.6.0,>=3.6.6\n",
      "  Downloading typing_extensions-4.5.0-py3-none-any.whl (27 kB)\n",
      "Collecting h5py>=2.9.0\n",
      "  Downloading h5py-3.11.0-cp38-cp38-win_amd64.whl (3.0 MB)\n",
      "Collecting flatbuffers>=23.1.21\n",
      "  Downloading flatbuffers-25.1.24-py2.py3-none-any.whl (30 kB)\n",
      "Requirement already satisfied: packaging in c:\\users\\abhit.pandey\\appdata\\roaming\\python\\python38\\site-packages (from tensorflow-intel==2.13.0->tensorflow) (24.2)\n",
      "Collecting keras<2.14,>=2.13.1\n",
      "  Downloading keras-2.13.1-py3-none-any.whl (1.7 MB)\n",
      "Collecting google-pasta>=0.1.1\n",
      "  Downloading google_pasta-0.2.0-py3-none-any.whl (57 kB)\n",
      "Requirement already satisfied: setuptools in c:\\users\\abhit.pandey\\appdata\\local\\programs\\python\\python38\\lib\\site-packages (from tensorflow-intel==2.13.0->tensorflow) (56.0.0)\n",
      "Collecting opt-einsum>=2.3.2\n",
      "  Downloading opt_einsum-3.4.0-py3-none-any.whl (71 kB)\n",
      "Collecting gast<=0.4.0,>=0.2.1\n",
      "  Downloading gast-0.4.0-py3-none-any.whl (9.8 kB)\n",
      "Collecting tensorflow-estimator<2.14,>=2.13.0\n",
      "  Downloading tensorflow_estimator-2.13.0-py2.py3-none-any.whl (440 kB)\n",
      "Collecting libclang>=13.0.0\n",
      "  Downloading libclang-18.1.1-py2.py3-none-win_amd64.whl (26.4 MB)\n",
      "Collecting termcolor>=1.1.0\n",
      "  Downloading termcolor-2.4.0-py3-none-any.whl (7.7 kB)\n",
      "Collecting absl-py>=1.0.0\n",
      "  Downloading absl_py-2.1.0-py3-none-any.whl (133 kB)\n",
      "Collecting astunparse>=1.6.0\n",
      "  Downloading astunparse-1.6.3-py2.py3-none-any.whl (12 kB)\n",
      "Requirement already satisfied: six>=1.12.0 in c:\\users\\abhit.pandey\\appdata\\roaming\\python\\python38\\site-packages (from tensorflow-intel==2.13.0->tensorflow) (1.17.0)\n",
      "Collecting grpcio<2.0,>=1.24.3\n",
      "  Downloading grpcio-1.70.0-cp38-cp38-win_amd64.whl (4.3 MB)\n",
      "Collecting wrapt>=1.11.0\n",
      "  Downloading wrapt-1.17.2-cp38-cp38-win_amd64.whl (38 kB)\n",
      "Collecting wheel<1.0,>=0.23.0\n",
      "  Using cached wheel-0.45.1-py3-none-any.whl (72 kB)\n",
      "Collecting markdown>=2.6.8\n",
      "  Downloading Markdown-3.7-py3-none-any.whl (106 kB)\n",
      "Collecting tensorboard-data-server<0.8.0,>=0.7.0\n",
      "  Downloading tensorboard_data_server-0.7.2-py3-none-any.whl (2.4 kB)\n",
      "Collecting requests<3,>=2.21.0\n",
      "  Using cached requests-2.32.3-py3-none-any.whl (64 kB)\n",
      "Collecting werkzeug>=1.0.1\n",
      "  Downloading werkzeug-3.0.6-py3-none-any.whl (227 kB)\n",
      "Collecting google-auth-oauthlib<1.1,>=0.5\n",
      "  Downloading google_auth_oauthlib-1.0.0-py2.py3-none-any.whl (18 kB)\n",
      "Collecting google-auth<3,>=1.6.3\n",
      "  Downloading google_auth-2.38.0-py2.py3-none-any.whl (210 kB)\n",
      "Collecting rsa<5,>=3.1.4\n",
      "  Downloading rsa-4.9-py3-none-any.whl (34 kB)\n",
      "Collecting pyasn1-modules>=0.2.1\n",
      "  Downloading pyasn1_modules-0.4.1-py3-none-any.whl (181 kB)\n",
      "Collecting cachetools<6.0,>=2.0.0\n",
      "  Downloading cachetools-5.5.1-py3-none-any.whl (9.5 kB)\n",
      "Collecting requests-oauthlib>=0.7.0\n",
      "  Downloading requests_oauthlib-2.0.0-py2.py3-none-any.whl (24 kB)\n",
      "Requirement already satisfied: importlib-metadata>=4.4 in c:\\users\\abhit.pandey\\appdata\\roaming\\python\\python38\\site-packages (from markdown>=2.6.8->tensorboard<2.14,>=2.13->tensorflow-intel==2.13.0->tensorflow) (8.5.0)\n",
      "Requirement already satisfied: zipp>=3.20 in c:\\users\\abhit.pandey\\appdata\\roaming\\python\\python38\\site-packages (from importlib-metadata>=4.4->markdown>=2.6.8->tensorboard<2.14,>=2.13->tensorflow-intel==2.13.0->tensorflow) (3.20.2)\n",
      "Collecting pyasn1<0.7.0,>=0.4.6\n",
      "  Downloading pyasn1-0.6.1-py3-none-any.whl (83 kB)\n",
      "Collecting urllib3<3,>=1.21.1\n",
      "  Downloading urllib3-2.2.3-py3-none-any.whl (126 kB)\n",
      "Collecting charset-normalizer<4,>=2\n",
      "  Downloading charset_normalizer-3.4.1-cp38-cp38-win_amd64.whl (102 kB)\n",
      "Collecting certifi>=2017.4.17\n",
      "  Downloading certifi-2025.1.31-py3-none-any.whl (166 kB)\n",
      "Collecting idna<4,>=2.5\n",
      "  Using cached idna-3.10-py3-none-any.whl (70 kB)\n",
      "Collecting oauthlib>=3.0.0\n",
      "  Downloading oauthlib-3.2.2-py3-none-any.whl (151 kB)\n",
      "Requirement already satisfied: MarkupSafe>=2.1.1 in c:\\users\\abhit.pandey\\appdata\\local\\programs\\python\\python38\\lib\\site-packages (from werkzeug>=1.0.1->tensorboard<2.14,>=2.13->tensorflow-intel==2.13.0->tensorflow) (2.1.5)\n",
      "Installing collected packages: urllib3, pyasn1, idna, charset-normalizer, certifi, rsa, requests, pyasn1-modules, oauthlib, cachetools, requests-oauthlib, google-auth, wheel, werkzeug, tensorboard-data-server, protobuf, numpy, markdown, grpcio, google-auth-oauthlib, absl-py, wrapt, typing-extensions, termcolor, tensorflow-io-gcs-filesystem, tensorflow-estimator, tensorboard, opt-einsum, libclang, keras, h5py, google-pasta, gast, flatbuffers, astunparse, tensorflow-intel, tensorflow\n",
      "  Attempting uninstall: numpy\n",
      "    Found existing installation: numpy 1.24.4\n",
      "    Uninstalling numpy-1.24.4:\n",
      "      Successfully uninstalled numpy-1.24.4\n",
      "  Attempting uninstall: typing-extensions\n",
      "    Found existing installation: typing-extensions 4.12.2\n",
      "    Uninstalling typing-extensions-4.12.2:\n",
      "      Successfully uninstalled typing-extensions-4.12.2\n",
      "Successfully installed absl-py-2.1.0 astunparse-1.6.3 cachetools-5.5.1 certifi-2025.1.31 charset-normalizer-3.4.1 flatbuffers-25.1.24 gast-0.4.0 google-auth-2.38.0 google-auth-oauthlib-1.0.0 google-pasta-0.2.0 grpcio-1.70.0 h5py-3.11.0 idna-3.10 keras-2.13.1 libclang-18.1.1 markdown-3.7 numpy-1.24.3 oauthlib-3.2.2 opt-einsum-3.4.0 protobuf-4.25.6 pyasn1-0.6.1 pyasn1-modules-0.4.1 requests-2.32.3 requests-oauthlib-2.0.0 rsa-4.9 tensorboard-2.13.0 tensorboard-data-server-0.7.2 tensorflow-2.13.0 tensorflow-estimator-2.13.0 tensorflow-intel-2.13.0 tensorflow-io-gcs-filesystem-0.31.0 termcolor-2.4.0 typing-extensions-4.5.0 urllib3-2.2.3 werkzeug-3.0.6 wheel-0.45.1 wrapt-1.17.2\n"
     ]
    },
    {
     "name": "stderr",
     "output_type": "stream",
     "text": [
      "  WARNING: The script normalizer.exe is installed in 'c:\\Users\\abhit.pandey\\AppData\\Local\\Programs\\Python\\Python38\\Scripts' which is not on PATH.\n",
      "  Consider adding this directory to PATH or, if you prefer to suppress this warning, use --no-warn-script-location.\n",
      "  WARNING: The scripts pyrsa-decrypt.exe, pyrsa-encrypt.exe, pyrsa-keygen.exe, pyrsa-priv2pub.exe, pyrsa-sign.exe and pyrsa-verify.exe are installed in 'c:\\Users\\abhit.pandey\\AppData\\Local\\Programs\\Python\\Python38\\Scripts' which is not on PATH.\n",
      "  Consider adding this directory to PATH or, if you prefer to suppress this warning, use --no-warn-script-location.\n",
      "  WARNING: The script wheel.exe is installed in 'c:\\Users\\abhit.pandey\\AppData\\Local\\Programs\\Python\\Python38\\Scripts' which is not on PATH.\n",
      "  Consider adding this directory to PATH or, if you prefer to suppress this warning, use --no-warn-script-location.\n",
      "  WARNING: The script f2py.exe is installed in 'c:\\Users\\abhit.pandey\\AppData\\Local\\Programs\\Python\\Python38\\Scripts' which is not on PATH.\n",
      "  Consider adding this directory to PATH or, if you prefer to suppress this warning, use --no-warn-script-location.\n",
      "  WARNING: The script markdown_py.exe is installed in 'c:\\Users\\abhit.pandey\\AppData\\Local\\Programs\\Python\\Python38\\Scripts' which is not on PATH.\n",
      "  Consider adding this directory to PATH or, if you prefer to suppress this warning, use --no-warn-script-location.\n",
      "  WARNING: The script google-oauthlib-tool.exe is installed in 'c:\\Users\\abhit.pandey\\AppData\\Local\\Programs\\Python\\Python38\\Scripts' which is not on PATH.\n",
      "  Consider adding this directory to PATH or, if you prefer to suppress this warning, use --no-warn-script-location.\n",
      "  WARNING: The script tensorboard.exe is installed in 'c:\\Users\\abhit.pandey\\AppData\\Local\\Programs\\Python\\Python38\\Scripts' which is not on PATH.\n",
      "  Consider adding this directory to PATH or, if you prefer to suppress this warning, use --no-warn-script-location.\n",
      "  WARNING: The scripts estimator_ckpt_converter.exe, import_pb_to_tensorboard.exe, saved_model_cli.exe, tensorboard.exe, tf_upgrade_v2.exe, tflite_convert.exe, toco.exe and toco_from_protos.exe are installed in 'c:\\Users\\abhit.pandey\\AppData\\Local\\Programs\\Python\\Python38\\Scripts' which is not on PATH.\n",
      "  Consider adding this directory to PATH or, if you prefer to suppress this warning, use --no-warn-script-location.\n",
      "ERROR: pip's dependency resolver does not currently take into account all the packages that are installed. This behaviour is the source of the following dependency conflicts.\n",
      "torch 2.4.1 requires typing-extensions>=4.8.0, but you have typing-extensions 4.5.0 which is incompatible.\n",
      "WARNING: You are using pip version 21.1.1; however, version 25.0 is available.\n",
      "You should consider upgrading via the 'c:\\Users\\abhit.pandey\\AppData\\Local\\Programs\\Python\\Python38\\python.exe -m pip install --upgrade pip' command.\n"
     ]
    }
   ],
   "source": [
    "pip install tensorflow\n"
   ]
  },
  {
   "cell_type": "code",
   "execution_count": 18,
   "metadata": {},
   "outputs": [
    {
     "data": {
      "image/png": "[encoded data removed]",
      "text/plain": [
       "<Figure size 400x400 with 2 Axes>"
      ]
     },
     "metadata": {},
     "output_type": "display_data"
    }
   ],
   "source": [
    "import cv2\n",
    "import matplotlib.pyplot as plt\n",
    "\n",
    "# Read images\n",
    "gt = cv2.imread(\"GT.jpg\")\n",
    "pred = cv2.imread(\"PREDICTED.jpg\")\n",
    "\n",
    "# Convert images from BGR (OpenCV default) to RGB\n",
    "gt_rgb = cv2.cvtColor(gt, cv2.COLOR_BGR2RGB)\n",
    "pred_rgb = cv2.cvtColor(pred, cv2.COLOR_BGR2RGB)\n",
    "\n",
    "# Plot the images\n",
    "plt.figure(figsize=(4, 4))\n",
    "\n",
    "# Display Ground Truth\n",
    "plt.subplot(1, 2, 1)\n",
    "plt.imshow(gt_rgb)\n",
    "plt.title(\"Ground Truth Image\")\n",
    "plt.axis('off')\n",
    "\n",
    "# Display Predicted Image\n",
    "plt.subplot(1, 2, 2)\n",
    "plt.imshow(pred_rgb)\n",
    "plt.title(\"Predicted Image\")\n",
    "plt.axis('off')\n",
    "\n",
    "plt.show()\n"
   ]
  },
  {
   "cell_type": "markdown",
   "metadata": {},
   "source": [
    "## Using NumPy"
   ]
  },
  {
   "cell_type": "code",
   "execution_count": 19,
   "metadata": {},
   "outputs": [
    {
     "name": "stdout",
     "output_type": "stream",
     "text": [
      "IoU (NumPy): 0.8403\n"
     ]
    }
   ],
   "source": [
    "import cv2\n",
    "import numpy as np\n",
    "\n",
    "def compute_iou_numpy(gt_path, pred_path):\n",
    "    \"\"\"\n",
    "    Compute IoU between two images using NumPy, ensuring they have the same size.\n",
    "    \n",
    "    Args:\n",
    "        gt_path (str): Path to ground truth image (GT.jpg)\n",
    "        pred_path (str): Path to predicted image (PREDICTED.jpg)\n",
    "\n",
    "    Returns:\n",
    "        float: IoU value\n",
    "    \"\"\"\n",
    "    # Read images in grayscale\n",
    "    gt = cv2.imread(gt_path, 0)  # Ground truth\n",
    "    pred = cv2.imread(pred_path, 0)  # Predicted\n",
    "\n",
    "    # Resize predicted image to match GT dimensions\n",
    "    pred_resized = cv2.resize(pred, (gt.shape[1], gt.shape[0]))  # Resize to (width, height)\n",
    "\n",
    "    # Thresholding to get binary masks (assumes objects are white on black background)\n",
    "    _, gt_bin = cv2.threshold(gt, 150, 255, cv2.THRESH_BINARY)\n",
    "    _, pred_bin = cv2.threshold(pred_resized, 150, 255, cv2.THRESH_BINARY)\n",
    "\n",
    "    # Convert to boolean arrays\n",
    "    gt_bool = gt_bin > 0\n",
    "    pred_bool = pred_bin > 0\n",
    "\n",
    "    # Compute Intersection and Union\n",
    "    intersection = np.logical_and(gt_bool, pred_bool)\n",
    "    union = np.logical_or(gt_bool, pred_bool)\n",
    "\n",
    "    # Compute IoU\n",
    "    iou = np.sum(intersection) / np.sum(union) if np.sum(union) > 0 else 0\n",
    "    return iou\n",
    "\n",
    "# Example usage:\n",
    "iou_value = compute_iou_numpy(\"GT.jpg\", \"PREDICTED.jpg\")\n",
    "print(f\"IoU (NumPy): {iou_value:.4f}\")\n"
   ]
  },
  {
   "cell_type": "markdown",
   "metadata": {},
   "source": [
    "## Using PyTorch"
   ]
  },
  {
   "cell_type": "code",
   "execution_count": 21,
   "metadata": {},
   "outputs": [
    {
     "name": "stdout",
     "output_type": "stream",
     "text": [
      "IoU (PyTorch): 0.8427\n"
     ]
    }
   ],
   "source": [
    "import torch\n",
    "import cv2\n",
    "\n",
    "def compute_iou_torch(gt_path, pred_path):\n",
    "    \"\"\"\n",
    "    Compute IoU between two images using PyTorch.\n",
    "\n",
    "    Args:\n",
    "        gt_path (str): Path to ground truth image (GT.jpg)\n",
    "        pred_path (str): Path to predicted image (PREDICTED.jpg)\n",
    "\n",
    "    Returns:\n",
    "        float: IoU value\n",
    "    \"\"\"\n",
    "    # Read images in grayscale\n",
    "    gt = cv2.imread(gt_path, 0)\n",
    "    pred = cv2.imread(pred_path, 0)\n",
    "    \n",
    "    pred_resized = cv2.resize(pred, (gt.shape[1], gt.shape[0]))  # Resize predicted to match GT\n",
    "\n",
    "    # Convert to PyTorch tensors\n",
    "    gt_tensor = torch.tensor(gt, dtype=torch.float32) / 255.0\n",
    "    pred_tensor = torch.tensor(pred_resized, dtype=torch.float32) / 255.0\n",
    "\n",
    "    # Thresholding\n",
    "    gt_bin = gt_tensor > 0.5\n",
    "    pred_bin = pred_tensor > 0.5\n",
    "\n",
    "    # Compute Intersection and Union\n",
    "    intersection = torch.logical_and(gt_bin, pred_bin).sum().float()\n",
    "    union = torch.logical_or(gt_bin, pred_bin).sum().float()\n",
    "\n",
    "    # Compute IoU\n",
    "    iou = intersection / union if union > 0 else torch.tensor(0.0)\n",
    "    return iou.item()\n",
    "\n",
    "# Example usage:\n",
    "iou_value = compute_iou_torch(\"GT.jpg\", \"PREDICTED.jpg\")\n",
    "print(f\"IoU (PyTorch): {iou_value:.4f}\")\n"
   ]
  },
  {
   "cell_type": "markdown",
   "metadata": {},
   "source": [
    "# Using TensorFlow"
   ]
  },
  {
   "cell_type": "code",
   "execution_count": 6,
   "metadata": {},
   "outputs": [
    {
     "name": "stdout",
     "output_type": "stream",
     "text": [
      "IoU (TensorFlow): 0.8427\n"
     ]
    }
   ],
   "source": [
    "import tensorflow as tf\n",
    "import cv2\n",
    "\n",
    "def compute_iou_tensorflow(gt_path, pred_path):\n",
    "    \"\"\"\n",
    "    Compute IoU between two images using TensorFlow.\n",
    "\n",
    "    Args:\n",
    "        gt_path (str): Path to ground truth image (GT.jpg)\n",
    "        pred_path (str): Path to predicted image (PREDICTED.jpg)\n",
    "\n",
    "    Returns:\n",
    "        float: IoU value\n",
    "    \"\"\"\n",
    "    # Read images in grayscale\n",
    "    gt = cv2.imread(gt_path, 0)\n",
    "    pred = cv2.imread(pred_path, 0)\n",
    "    \n",
    "    pred_resized = cv2.resize(pred, (gt.shape[1], gt.shape[0]))  # Resize predicted to match GT\n",
    "\n",
    "    # Convert to TensorFlow tensors\n",
    "    gt_tensor = tf.cast(gt, dtype=tf.float32) / 255.0\n",
    "    pred_tensor = tf.cast(pred_resized, dtype=tf.float32) / 255.0\n",
    "\n",
    "    # Thresholding\n",
    "    gt_bin = gt_tensor > 0.5\n",
    "    pred_bin = pred_tensor > 0.5\n",
    "\n",
    "    # Compute Intersection and Union\n",
    "    intersection = tf.reduce_sum(tf.cast(tf.logical_and(gt_bin, pred_bin), tf.float32))\n",
    "    union = tf.reduce_sum(tf.cast(tf.logical_or(gt_bin, pred_bin), tf.float32))\n",
    "\n",
    "    # Compute IoU\n",
    "    iou = intersection / union if union > 0 else tf.constant(0.0)\n",
    "    return iou.numpy()\n",
    "\n",
    "# Example usage:\n",
    "iou_value = compute_iou_tensorflow(\"GT.jpg\", \"PREDICTED.jpg\")\n",
    "print(f\"IoU (TensorFlow): {iou_value:.4f}\")\n"
   ]
  },
  {
   "cell_type": "markdown",
   "metadata": {},
   "source": [
    "## Import Metrics\n",
    "\n"
   ]
  },
  {
   "cell_type": "code",
   "execution_count": null,
   "metadata": {},
   "outputs": [],
   "source": [
    "import torch\n",
    "import torchmetrics\n",
    "\n",
    "# Initialize IoU metric\n",
    "iou_metric = torchmetrics.JaccardIndex(num_classes=2)\n",
    "\n",
    "# Compute IoU\n",
    "iou_value = iou_metric(pred_tensor.unsqueeze(0), gt_tensor.unsqueeze(0))\n",
    "\n",
    "'''\n",
    "The unsqueeze(0) is used to add an extra dimension for batch \n",
    "size as torchmetrics expects input tensors with the shape \n",
    "[batch_size, channels, height, width].\n",
    "'''"
   ]
  },
  {
   "cell_type": "code",
   "execution_count": null,
   "metadata": {},
   "outputs": [],
   "source": [
    "import tensorflow as tf\n",
    "\n",
    "# Initialize MeanIoU metric\n",
    "iou_metric = tf.keras.metrics.MeanIoU(num_classes=2)\n",
    "\n",
    "# Update the metric with the ground truth and prediction\n",
    "iou_metric.update_state(gt_tensor, pred_tensor)\n",
    "\n",
    "# Get the IoU value\n",
    "iou_value = iou_metric.result().numpy()"
   ]
  },
  {
   "cell_type": "code",
   "execution_count": null,
   "metadata": {},
   "outputs": [],
   "source": []
  }
 ],
 "metadata": {
  "kernelspec": {
   "display_name": "Python 3",
   "language": "python",
   "name": "python3"
  },
  "language_info": {
   "codemirror_mode": {
    "name": "ipython",
    "version": 3
   },
   "file_extension": ".py",
   "mimetype": "text/x-python",
   "name": "python",
   "nbconvert_exporter": "python",
   "pygments_lexer": "ipython3",
   "version": "3.8.10"
  }
 },
 "nbformat": 4,
 "nbformat_minor": 2
}
