{
 "cells": [
  {
   "cell_type": "code",
   "execution_count": 1,
   "metadata": {},
   "outputs": [
    {
     "data": {
      "image/png": "[encoded data removed]",
      "text/plain": [
       "<Figure size 1500x500 with 3 Axes>"
      ]
     },
     "metadata": {},
     "output_type": "display_data"
    }
   ],
   "source": [
    "import matplotlib.pyplot as plt\n",
    "from PIL import Image\n",
    "import numpy as np\n",
    "import torch\n",
    "\n",
    "# Load images\n",
    "predicted_image = Image.open('PREDICTED.jpg').convert('L')\n",
    "ground_truth_image = Image.open('GT.jpg').convert('L')\n",
    "\n",
    "# Resize the images to match each other (resize to the shape of the predicted image)\n",
    "ground_truth_image_resized = ground_truth_image.resize(predicted_image.size)\n",
    "\n",
    "# Convert images to NumPy arrays\n",
    "predicted_image_np = np.array(predicted_image)\n",
    "ground_truth_image_resized_np = np.array(ground_truth_image_resized)\n",
    "\n",
    "# Convert to PyTorch tensors\n",
    "predicted_tensor = torch.tensor(predicted_image_np, dtype=torch.float32)\n",
    "ground_truth_tensor = torch.tensor(ground_truth_image_resized_np, dtype=torch.float32)\n",
    "\n",
    "# Binarize the tensors (thresholding)\n",
    "predicted_tensor_bin = (predicted_tensor > 128).int()\n",
    "ground_truth_tensor_bin = (ground_truth_tensor > 128).int()\n",
    "\n",
    "# Plot the images for visualization\n",
    "fig, axs = plt.subplots(1, 3, figsize=(15, 5))\n",
    "\n",
    "# Show the predicted image\n",
    "axs[0].imshow(predicted_image_np, cmap='gray')\n",
    "axs[0].set_title('Predicted Image')\n",
    "axs[0].axis('off')\n",
    "\n",
    "# Show the ground truth image\n",
    "axs[1].imshow(ground_truth_image_resized_np, cmap='gray')\n",
    "axs[1].set_title('Ground Truth Image')\n",
    "axs[1].axis('off')\n",
    "\n",
    "# Show the binarized predicted image\n",
    "axs[2].imshow(predicted_tensor_bin.numpy(), cmap='gray')\n",
    "axs[2].set_title('Binarized Predicted Image')\n",
    "axs[2].axis('off')\n",
    "\n",
    "plt.tight_layout()\n",
    "plt.show()\n"
   ]
  },
  {
   "cell_type": "markdown",
   "metadata": {},
   "source": [
    "# NumPy"
   ]
  },
  {
   "cell_type": "code",
   "execution_count": 9,
   "metadata": {},
   "outputs": [
    {
     "name": "stdout",
     "output_type": "stream",
     "text": [
      "True Negatives (TN): 15041\n",
      "False Positives (FP): 74\n",
      "False Negatives (FN): 798\n",
      "True Positives (TP): 4637\n",
      "Total Pixels: 20550\n",
      "Pixel Accuracy: 0.9576\n",
      "Execution Time: 0.0046 seconds\n"
     ]
    }
   ],
   "source": [
    "import numpy as np\n",
    "from PIL import Image\n",
    "import matplotlib.pyplot as plt\n",
    "from sklearn.metrics import confusion_matrix\n",
    "import seaborn as sns\n",
    "import time  # Import time module\n",
    "\n",
    "# Start the timer\n",
    "start_time = time.time()\n",
    "\n",
    "# Load images\n",
    "predicted_image = Image.open('PREDICTED.jpg').convert('L')\n",
    "ground_truth_image = Image.open('GT.jpg').convert('L')\n",
    "\n",
    "# Resize the ground truth image to match the predicted image's size\n",
    "ground_truth_image_resized = ground_truth_image.resize(predicted_image.size)\n",
    "\n",
    "# Convert images to NumPy arrays\n",
    "predicted_image_np = np.array(predicted_image)\n",
    "ground_truth_image_resized_np = np.array(ground_truth_image_resized)\n",
    "\n",
    "# Binarize the images (thresholding: anything greater than 128 becomes 1, else 0)\n",
    "predicted_image_bin = (predicted_image_np > 128).astype(int)\n",
    "ground_truth_image_bin = (ground_truth_image_resized_np > 128).astype(int)\n",
    "\n",
    "# Compute confusion matrix\n",
    "conf_matrix = confusion_matrix(ground_truth_image_bin.flatten(), predicted_image_bin.flatten())\n",
    "\n",
    "# Extract TP, FP, FN, TN from the confusion matrix\n",
    "TN, FP, FN, TP = conf_matrix.ravel()\n",
    "\n",
    "# Print out the confusion matrix and individual counts\n",
    "print(f\"True Negatives (TN): {TN}\")\n",
    "print(f\"False Positives (FP): {FP}\")\n",
    "print(f\"False Negatives (FN): {FN}\")\n",
    "print(f\"True Positives (TP): {TP}\")\n",
    "\n",
    "# Total number of pixels\n",
    "total_pixels = TN + FP + FN + TP\n",
    "print(f\"Total Pixels: {total_pixels}\")\n",
    "\n",
    "# Calculate Pixel Accuracy\n",
    "pixel_accuracy = (TP + TN) / total_pixels\n",
    "print(f\"Pixel Accuracy: {pixel_accuracy:.4f}\")\n",
    "\n",
    "# Stop the timer and calculate the elapsed time\n",
    "end_time = time.time()\n",
    "execution_time = end_time - start_time\n",
    "print(f\"Execution Time: {execution_time:.4f} seconds\")\n"
   ]
  },
  {
   "cell_type": "markdown",
   "metadata": {},
   "source": [
    "# PyTorch"
   ]
  },
  {
   "cell_type": "code",
   "execution_count": 7,
   "metadata": {},
   "outputs": [
    {
     "name": "stdout",
     "output_type": "stream",
     "text": [
      "True Negatives (TN): 15041\n",
      "False Positives (FP): 74\n",
      "False Negatives (FN): 798\n",
      "True Positives (TP): 4637\n",
      "Total Pixels: 20550\n",
      "Pixel Accuracy: 0.9576\n",
      "Execution Time: 0.0068 seconds\n"
     ]
    }
   ],
   "source": [
    "import torch\n",
    "import numpy as np\n",
    "from PIL import Image\n",
    "import matplotlib.pyplot as plt\n",
    "from sklearn.metrics import confusion_matrix\n",
    "import seaborn as sns\n",
    "import time  # Import time module\n",
    "\n",
    "# Start the timer\n",
    "start_time = time.time()\n",
    "\n",
    "# Load images\n",
    "predicted_image = Image.open('PREDICTED.jpg').convert('L')\n",
    "ground_truth_image = Image.open('GT.jpg').convert('L')\n",
    "\n",
    "# Resize the ground truth image to match the predicted image's size\n",
    "ground_truth_image_resized = ground_truth_image.resize(predicted_image.size)\n",
    "\n",
    "# Convert images to NumPy arrays\n",
    "predicted_image_np = np.array(predicted_image)\n",
    "ground_truth_image_resized_np = np.array(ground_truth_image_resized)\n",
    "\n",
    "# Convert to PyTorch tensors\n",
    "predicted_tensor = torch.tensor(predicted_image_np, dtype=torch.float32)\n",
    "ground_truth_tensor = torch.tensor(ground_truth_image_resized_np, dtype=torch.float32)\n",
    "\n",
    "# Binarize the tensors (thresholding: anything greater than 128 becomes 1, else 0)\n",
    "predicted_tensor_bin = (predicted_tensor > 128).int()\n",
    "ground_truth_tensor_bin = (ground_truth_tensor > 128).int()\n",
    "\n",
    "# Compute confusion matrix\n",
    "conf_matrix = confusion_matrix(ground_truth_tensor_bin.flatten(), predicted_tensor_bin.flatten())\n",
    "\n",
    "# Extract TP, FP, FN, TN from the confusion matrix\n",
    "TN, FP, FN, TP = conf_matrix.ravel()\n",
    "\n",
    "# Print out the confusion matrix and individual counts\n",
    "print(f\"True Negatives (TN): {TN}\")\n",
    "print(f\"False Positives (FP): {FP}\")\n",
    "print(f\"False Negatives (FN): {FN}\")\n",
    "print(f\"True Positives (TP): {TP}\")\n",
    "\n",
    "# Total number of pixels\n",
    "total_pixels = TN + FP + FN + TP\n",
    "print(f\"Total Pixels: {total_pixels}\")\n",
    "\n",
    "# Calculate Pixel Accuracy\n",
    "pixel_accuracy = (TP + TN) / total_pixels\n",
    "print(f\"Pixel Accuracy: {pixel_accuracy:.4f}\")\n",
    "\n",
    "# Stop the timer and calculate the elapsed time\n",
    "end_time = time.time()\n",
    "execution_time = end_time - start_time\n",
    "print(f\"Execution Time: {execution_time:.4f} seconds\")\n"
   ]
  },
  {
   "cell_type": "markdown",
   "metadata": {},
   "source": [
    "# TensorFlow"
   ]
  },
  {
   "cell_type": "code",
   "execution_count": 10,
   "metadata": {},
   "outputs": [
    {
     "name": "stdout",
     "output_type": "stream",
     "text": [
      "True Negatives (TN): 15041\n",
      "False Positives (FP): 74\n",
      "False Negatives (FN): 798\n",
      "True Positives (TP): 4637\n",
      "Total Pixels: 20550\n",
      "Pixel Accuracy: 0.9576\n",
      "Execution Time: 0.0064 seconds\n"
     ]
    }
   ],
   "source": [
    "import tensorflow as tf\n",
    "import numpy as np\n",
    "from PIL import Image\n",
    "import matplotlib.pyplot as plt\n",
    "from sklearn.metrics import confusion_matrix\n",
    "import seaborn as sns\n",
    "import time  # Import time module\n",
    "\n",
    "# Start the timer\n",
    "start_time = time.time()\n",
    "\n",
    "# Load images\n",
    "predicted_image = Image.open('PREDICTED.jpg').convert('L')\n",
    "ground_truth_image = Image.open('GT.jpg').convert('L')\n",
    "\n",
    "# Resize the ground truth image to match the predicted image's size\n",
    "ground_truth_image_resized = ground_truth_image.resize(predicted_image.size)\n",
    "\n",
    "# Convert images to NumPy arrays\n",
    "predicted_image_np = np.array(predicted_image)\n",
    "ground_truth_image_resized_np = np.array(ground_truth_image_resized)\n",
    "\n",
    "# Convert to TensorFlow tensors\n",
    "predicted_tensor = tf.convert_to_tensor(predicted_image_np, dtype=tf.float32)\n",
    "ground_truth_tensor = tf.convert_to_tensor(ground_truth_image_resized_np, dtype=tf.float32)\n",
    "\n",
    "# Binarize the tensors (thresholding: anything greater than 128 becomes 1, else 0)\n",
    "predicted_tensor_bin = tf.cast(predicted_tensor > 128, tf.int32)\n",
    "ground_truth_tensor_bin = tf.cast(ground_truth_tensor > 128, tf.int32)\n",
    "\n",
    "# Compute confusion matrix\n",
    "conf_matrix = confusion_matrix(ground_truth_tensor_bin.numpy().flatten(), predicted_tensor_bin.numpy().flatten())\n",
    "\n",
    "# Extract TP, FP, FN, TN from the confusion matrix\n",
    "TN, FP, FN, TP = conf_matrix.ravel()\n",
    "\n",
    "# Print out the confusion matrix and individual counts\n",
    "print(f\"True Negatives (TN): {TN}\")\n",
    "print(f\"False Positives (FP): {FP}\")\n",
    "print(f\"False Negatives (FN): {FN}\")\n",
    "print(f\"True Positives (TP): {TP}\")\n",
    "\n",
    "# Total number of pixels\n",
    "total_pixels = TN + FP + FN + TP\n",
    "print(f\"Total Pixels: {total_pixels}\")\n",
    "\n",
    "# Calculate Pixel Accuracy\n",
    "pixel_accuracy = (TP + TN) / total_pixels\n",
    "print(f\"Pixel Accuracy: {pixel_accuracy:.4f}\")\n",
    "\n",
    "# Stop the timer and calculate the elapsed time\n",
    "end_time = time.time()\n",
    "execution_time = end_time - start_time\n",
    "print(f\"Execution Time: {execution_time:.4f} seconds\")\n"
   ]
  },
  {
   "cell_type": "code",
   "execution_count": null,
   "metadata": {},
   "outputs": [],
   "source": []
  }
 ],
 "metadata": {
  "kernelspec": {
   "display_name": "Python 3",
   "language": "python",
   "name": "python3"
  },
  "language_info": {
   "codemirror_mode": {
    "name": "ipython",
    "version": 3
   },
   "file_extension": ".py",
   "mimetype": "text/x-python",
   "name": "python",
   "nbconvert_exporter": "python",
   "pygments_lexer": "ipython3",
   "version": "3.10.0rc2"
  }
 },
 "nbformat": 4,
 "nbformat_minor": 2
}
